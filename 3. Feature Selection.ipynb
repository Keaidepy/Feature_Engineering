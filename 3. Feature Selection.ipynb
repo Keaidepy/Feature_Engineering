{
 "cells": [
  {
   "cell_type": "code",
   "execution_count": 1,
   "id": "aaf4812e",
   "metadata": {},
   "outputs": [],
   "source": [
    "import pandas as pd\n",
    "data = pd.read_csv(r\"C:\\Users\\86151\\Downloads\\digit recognizer\\train.csv\")"
   ]
  },
  {
   "cell_type": "code",
   "execution_count": 2,
   "id": "8e26323c",
   "metadata": {},
   "outputs": [],
   "source": [
    "x = data.iloc[:,1:]\n",
    "y = data.iloc[:,0]"
   ]
  },
  {
   "cell_type": "code",
   "execution_count": 3,
   "id": "a107b8e5",
   "metadata": {},
   "outputs": [
    {
     "data": {
      "text/plain": [
       "(42000, 784)"
      ]
     },
     "execution_count": 3,
     "metadata": {},
     "output_type": "execute_result"
    }
   ],
   "source": [
    "x.shape"
   ]
  },
  {
   "cell_type": "code",
   "execution_count": 4,
   "id": "4f525145",
   "metadata": {},
   "outputs": [
    {
     "data": {
      "text/html": [
       "<div>\n",
       "<style scoped>\n",
       "    .dataframe tbody tr th:only-of-type {\n",
       "        vertical-align: middle;\n",
       "    }\n",
       "\n",
       "    .dataframe tbody tr th {\n",
       "        vertical-align: top;\n",
       "    }\n",
       "\n",
       "    .dataframe thead th {\n",
       "        text-align: right;\n",
       "    }\n",
       "</style>\n",
       "<table border=\"1\" class=\"dataframe\">\n",
       "  <thead>\n",
       "    <tr style=\"text-align: right;\">\n",
       "      <th></th>\n",
       "      <th>label</th>\n",
       "      <th>pixel0</th>\n",
       "      <th>pixel1</th>\n",
       "      <th>pixel2</th>\n",
       "      <th>pixel3</th>\n",
       "      <th>pixel4</th>\n",
       "      <th>pixel5</th>\n",
       "      <th>pixel6</th>\n",
       "      <th>pixel7</th>\n",
       "      <th>pixel8</th>\n",
       "      <th>...</th>\n",
       "      <th>pixel774</th>\n",
       "      <th>pixel775</th>\n",
       "      <th>pixel776</th>\n",
       "      <th>pixel777</th>\n",
       "      <th>pixel778</th>\n",
       "      <th>pixel779</th>\n",
       "      <th>pixel780</th>\n",
       "      <th>pixel781</th>\n",
       "      <th>pixel782</th>\n",
       "      <th>pixel783</th>\n",
       "    </tr>\n",
       "  </thead>\n",
       "  <tbody>\n",
       "    <tr>\n",
       "      <th>0</th>\n",
       "      <td>1</td>\n",
       "      <td>0</td>\n",
       "      <td>0</td>\n",
       "      <td>0</td>\n",
       "      <td>0</td>\n",
       "      <td>0</td>\n",
       "      <td>0</td>\n",
       "      <td>0</td>\n",
       "      <td>0</td>\n",
       "      <td>0</td>\n",
       "      <td>...</td>\n",
       "      <td>0</td>\n",
       "      <td>0</td>\n",
       "      <td>0</td>\n",
       "      <td>0</td>\n",
       "      <td>0</td>\n",
       "      <td>0</td>\n",
       "      <td>0</td>\n",
       "      <td>0</td>\n",
       "      <td>0</td>\n",
       "      <td>0</td>\n",
       "    </tr>\n",
       "    <tr>\n",
       "      <th>1</th>\n",
       "      <td>0</td>\n",
       "      <td>0</td>\n",
       "      <td>0</td>\n",
       "      <td>0</td>\n",
       "      <td>0</td>\n",
       "      <td>0</td>\n",
       "      <td>0</td>\n",
       "      <td>0</td>\n",
       "      <td>0</td>\n",
       "      <td>0</td>\n",
       "      <td>...</td>\n",
       "      <td>0</td>\n",
       "      <td>0</td>\n",
       "      <td>0</td>\n",
       "      <td>0</td>\n",
       "      <td>0</td>\n",
       "      <td>0</td>\n",
       "      <td>0</td>\n",
       "      <td>0</td>\n",
       "      <td>0</td>\n",
       "      <td>0</td>\n",
       "    </tr>\n",
       "    <tr>\n",
       "      <th>2</th>\n",
       "      <td>1</td>\n",
       "      <td>0</td>\n",
       "      <td>0</td>\n",
       "      <td>0</td>\n",
       "      <td>0</td>\n",
       "      <td>0</td>\n",
       "      <td>0</td>\n",
       "      <td>0</td>\n",
       "      <td>0</td>\n",
       "      <td>0</td>\n",
       "      <td>...</td>\n",
       "      <td>0</td>\n",
       "      <td>0</td>\n",
       "      <td>0</td>\n",
       "      <td>0</td>\n",
       "      <td>0</td>\n",
       "      <td>0</td>\n",
       "      <td>0</td>\n",
       "      <td>0</td>\n",
       "      <td>0</td>\n",
       "      <td>0</td>\n",
       "    </tr>\n",
       "    <tr>\n",
       "      <th>3</th>\n",
       "      <td>4</td>\n",
       "      <td>0</td>\n",
       "      <td>0</td>\n",
       "      <td>0</td>\n",
       "      <td>0</td>\n",
       "      <td>0</td>\n",
       "      <td>0</td>\n",
       "      <td>0</td>\n",
       "      <td>0</td>\n",
       "      <td>0</td>\n",
       "      <td>...</td>\n",
       "      <td>0</td>\n",
       "      <td>0</td>\n",
       "      <td>0</td>\n",
       "      <td>0</td>\n",
       "      <td>0</td>\n",
       "      <td>0</td>\n",
       "      <td>0</td>\n",
       "      <td>0</td>\n",
       "      <td>0</td>\n",
       "      <td>0</td>\n",
       "    </tr>\n",
       "    <tr>\n",
       "      <th>4</th>\n",
       "      <td>0</td>\n",
       "      <td>0</td>\n",
       "      <td>0</td>\n",
       "      <td>0</td>\n",
       "      <td>0</td>\n",
       "      <td>0</td>\n",
       "      <td>0</td>\n",
       "      <td>0</td>\n",
       "      <td>0</td>\n",
       "      <td>0</td>\n",
       "      <td>...</td>\n",
       "      <td>0</td>\n",
       "      <td>0</td>\n",
       "      <td>0</td>\n",
       "      <td>0</td>\n",
       "      <td>0</td>\n",
       "      <td>0</td>\n",
       "      <td>0</td>\n",
       "      <td>0</td>\n",
       "      <td>0</td>\n",
       "      <td>0</td>\n",
       "    </tr>\n",
       "  </tbody>\n",
       "</table>\n",
       "<p>5 rows × 785 columns</p>\n",
       "</div>"
      ],
      "text/plain": [
       "   label  pixel0  pixel1  pixel2  pixel3  pixel4  pixel5  pixel6  pixel7  \\\n",
       "0      1       0       0       0       0       0       0       0       0   \n",
       "1      0       0       0       0       0       0       0       0       0   \n",
       "2      1       0       0       0       0       0       0       0       0   \n",
       "3      4       0       0       0       0       0       0       0       0   \n",
       "4      0       0       0       0       0       0       0       0       0   \n",
       "\n",
       "   pixel8  ...  pixel774  pixel775  pixel776  pixel777  pixel778  pixel779  \\\n",
       "0       0  ...         0         0         0         0         0         0   \n",
       "1       0  ...         0         0         0         0         0         0   \n",
       "2       0  ...         0         0         0         0         0         0   \n",
       "3       0  ...         0         0         0         0         0         0   \n",
       "4       0  ...         0         0         0         0         0         0   \n",
       "\n",
       "   pixel780  pixel781  pixel782  pixel783  \n",
       "0         0         0         0         0  \n",
       "1         0         0         0         0  \n",
       "2         0         0         0         0  \n",
       "3         0         0         0         0  \n",
       "4         0         0         0         0  \n",
       "\n",
       "[5 rows x 785 columns]"
      ]
     },
     "execution_count": 4,
     "metadata": {},
     "output_type": "execute_result"
    }
   ],
   "source": [
    "data.head()"
   ]
  },
  {
   "cell_type": "code",
   "execution_count": null,
   "id": "b8c1f5c3",
   "metadata": {},
   "outputs": [],
   "source": [
    "#filter"
   ]
  },
  {
   "cell_type": "code",
   "execution_count": 6,
   "id": "6ee15d9f",
   "metadata": {},
   "outputs": [
    {
     "data": {
      "text/plain": [
       "(42000, 708)"
      ]
     },
     "execution_count": 6,
     "metadata": {},
     "output_type": "execute_result"
    }
   ],
   "source": [
    "#variance threshold\n",
    "from sklearn.feature_selection import VarianceThreshold\n",
    "selector = VarianceThreshold()#default = 0\n",
    "x_var0 = selector.fit_transform(x)\n",
    "x_var0.shape"
   ]
  },
  {
   "cell_type": "code",
   "execution_count": 7,
   "id": "6a312810",
   "metadata": {},
   "outputs": [
    {
     "data": {
      "text/plain": [
       "(42000, 392)"
      ]
     },
     "execution_count": 7,
     "metadata": {},
     "output_type": "execute_result"
    }
   ],
   "source": [
    "import numpy as np\n",
    "x_fsvar = VarianceThreshold(np.median(x.var().values)).fit_transform(x)\n",
    "x_fsvar.shape"
   ]
  },
  {
   "cell_type": "code",
   "execution_count": 8,
   "id": "49c8f4b8",
   "metadata": {},
   "outputs": [
    {
     "data": {
      "text/plain": [
       "(42000, 685)"
      ]
     },
     "execution_count": 8,
     "metadata": {},
     "output_type": "execute_result"
    }
   ],
   "source": [
    "x_bvar = VarianceThreshold(0.8*0.2).fit_transform(x)\n",
    "x_bvar.shape"
   ]
  },
  {
   "cell_type": "code",
   "execution_count": 9,
   "id": "9ae96e5c",
   "metadata": {},
   "outputs": [],
   "source": [
    "# chi square filter\n",
    "from sklearn.ensemble import RandomForestClassifier as RFC\n",
    "from sklearn.model_selection import cross_val_score\n",
    "from sklearn.feature_selection import SelectKBest\n",
    "from sklearn.feature_selection import chi2"
   ]
  },
  {
   "cell_type": "code",
   "execution_count": 10,
   "id": "fd8621b1",
   "metadata": {},
   "outputs": [
    {
     "data": {
      "text/plain": [
       "(42000, 300)"
      ]
     },
     "execution_count": 10,
     "metadata": {},
     "output_type": "execute_result"
    }
   ],
   "source": [
    "x_fschi = SelectKBest(chi2, k=300).fit_transform(x_fsvar,y)\n",
    "x_fschi.shape"
   ]
  },
  {
   "cell_type": "code",
   "execution_count": 11,
   "id": "99a67130",
   "metadata": {},
   "outputs": [
    {
     "data": {
      "text/plain": [
       "0.9344761904761905"
      ]
     },
     "execution_count": 11,
     "metadata": {},
     "output_type": "execute_result"
    }
   ],
   "source": [
    "cross_val_score(RFC(n_estimators=10,random_state=0),x_fschi,y,cv=5).mean()"
   ]
  },
  {
   "cell_type": "code",
   "execution_count": 13,
   "id": "0b96f5af",
   "metadata": {},
   "outputs": [
    {
     "data": {
      "image/png": "[encoded data removed]",
      "text/plain": [
       "<Figure size 640x480 with 1 Axes>"
      ]
     },
     "metadata": {},
     "output_type": "display_data"
    }
   ],
   "source": [
    "%matplotlib inline\n",
    "import matplotlib.pyplot as plt\n",
    "score = []\n",
    "for i in range(390,200,-10):\n",
    "    x_fschi = SelectKBest(chi2, k=i).fit_transform(x_fsvar,y)\n",
    "    sc = cross_val_score(RFC(n_estimators=10,random_state=0),x_fschi,y,cv=5).mean()\n",
    "    score.append(sc)\n",
    "plt.plot(range(390,200,-10),score)\n",
    "plt.show()"
   ]
  },
  {
   "cell_type": "code",
   "execution_count": 14,
   "id": "872d4405",
   "metadata": {},
   "outputs": [
    {
     "data": {
      "text/plain": [
       "array([ 945664.84392645, 1244766.05139167, 1554872.30384529,\n",
       "       1834161.78305348, 1903618.94085299, 1845226.62427203,\n",
       "       1602117.23307541,  708535.17489839,  974050.2051372 ,\n",
       "       1188092.19961933, 1319151.4346704 , 1397847.88367963,\n",
       "       1433554.26798019, 1429043.15373436, 1332663.17213408,\n",
       "       1101423.25372263,  809989.56940487,  519266.71772285,\n",
       "        285681.88297156,  191589.23696469,  902883.12552642,\n",
       "       1237265.16042376, 1503477.73699159, 1625807.41495546,\n",
       "       1630206.9092292 , 1630597.02883808, 1633456.72909668,\n",
       "       1610816.75571233, 1483382.4954389 , 1256290.15747943,\n",
       "        951236.16176823,  693192.66191749,  532386.96220362,\n",
       "        504617.38933716,  575090.36046245,  501025.03733246,\n",
       "        802341.10683196, 1078344.87244063, 1226540.98318705,\n",
       "       1269945.07968834, 1221758.57688811, 1146535.17810244,\n",
       "       1080657.20185306, 1079065.30979138, 1092222.70610035,\n",
       "       1064908.45385719, 1023327.00231069,  974163.15420168,\n",
       "        918857.12860619,  861439.52030751,  828439.23565049,\n",
       "        916454.89464773,  989713.5822996 ,  543695.50166991,\n",
       "        674691.76755046,  708113.57226971,  657819.39088552,\n",
       "        599159.21961673,  576483.60795848,  559848.18181372,\n",
       "        536985.56062373,  561457.5773477 ,  594428.19185936,\n",
       "        592414.89830454,  587801.84097645,  672232.6013517 ,\n",
       "        790511.7053062 ,  866573.70991779,  891422.58050937,\n",
       "        905163.15191885, 1006322.94034636,  585209.83598255,\n",
       "        699596.88963549,  705326.82387205,  641105.09297741,\n",
       "        632098.97938143,  725189.43548606,  853879.48154988,\n",
       "        863895.50862875,  709440.99808715,  615099.36149801,\n",
       "        660082.35138803,  662040.13166051,  647432.43321105,\n",
       "        718070.06251005,  868119.93550554,  995128.78948216,\n",
       "        981295.46383874,  888906.74357257,  803951.63399894,\n",
       "        775220.92445239,  802661.20360684,  806753.10120015,\n",
       "        827660.89112312, 1008184.76195544, 1212658.65697339,\n",
       "       1279652.35847444, 1071947.51866573,  712579.55021263,\n",
       "        708178.91784271,  931871.22430819,  836155.03350403,\n",
       "        781584.17446606,  883252.58134167, 1015304.18853995,\n",
       "       1153480.28062011, 1235182.10720644, 1110286.2949064 ,\n",
       "        762412.02282712,  651475.73744451,  659784.45490336,\n",
       "        761439.40964845,  980458.35707787, 1285689.59773693,\n",
       "       1412800.83270282, 1269424.03486307,  844394.53343883,\n",
       "        453037.70035636,  906205.53334852, 1314337.38985739,\n",
       "        875502.64893109,  848574.25317155, 1088364.70535322,\n",
       "       1143964.61799578, 1231934.57606492, 1525266.11466638,\n",
       "       1624923.27849515, 1120921.66905397,  381196.04594988,\n",
       "        517011.1308056 ,  840830.08443579, 1249668.53527259,\n",
       "       1487299.06201812, 1440993.69232525, 1234157.54433965,\n",
       "        891091.32709081,  767327.74644146, 1767505.95851494,\n",
       "       1794612.36340346,  843649.64862698,  974860.15688279,\n",
       "       1282142.97896043, 1121437.99502366, 1158258.43733893,\n",
       "       1803319.16430167, 2247538.01212787, 1715860.10091724,\n",
       "        308268.96279553,  670765.24199639, 1175840.18589309,\n",
       "       1569563.41213808, 1615071.70298465, 1453812.39367815,\n",
       "       1429193.59276007, 1469624.15320091, 1610038.83340074,\n",
       "       2381990.83018425, 1684641.44646867,  781514.82471786,\n",
       "       1136274.26981956, 1258505.95202958,  900621.20914748,\n",
       "       1033026.39393917, 2032592.30559202, 2688297.40292308,\n",
       "       2126052.31008571,  477854.9409772 , 1061876.29515352,\n",
       "       1617721.02614338, 1859303.87013653, 1706658.49975173,\n",
       "       1442798.15960515, 1497467.99791587, 1635633.52918663,\n",
       "       1789954.04408114, 2042036.97897047, 1243975.13567919,\n",
       "        847897.40531409, 1334491.44036767, 1146547.23628075,\n",
       "        721408.29456934, 1099901.34212846, 2234797.26301013,\n",
       "       2788060.61506631, 2097404.45292919,  770825.17396302,\n",
       "       1509971.18325279, 2008828.59327294, 2076128.28182051,\n",
       "       1775258.41727459, 1374882.05100456, 1223860.78474698,\n",
       "       1190499.5549368 , 1469994.89713297, 1556218.16894476,\n",
       "        936604.62115713, 1052799.96220048, 1487484.96092395,\n",
       "       1096221.91497986,  754081.75743132, 1308952.47883144,\n",
       "       2269151.2849718 , 2519422.44411616, 1816912.55593103,\n",
       "       1090497.85622879, 1822356.78804373, 2192372.53046576,\n",
       "       2133745.04961117, 1807649.67676259, 1420349.92183111,\n",
       "       1222343.35267929, 1165504.9960763 , 1500572.78318501,\n",
       "       1432663.59271328,  890862.82928646, 1274280.76943078,\n",
       "       1432072.36165079,  956997.5959082 ,  888742.14373386,\n",
       "       1508163.46238825, 2117988.1223692 , 2054465.38907921,\n",
       "       1423918.25987692, 1286013.85962752, 1972608.25057544,\n",
       "       2179634.12755049, 1979740.23184787, 1717723.16781815,\n",
       "       1552275.10457861, 1461315.14115364, 1494620.9497198 ,\n",
       "       1739520.65681861, 1442815.46046632, 1014723.34171194,\n",
       "       1363794.15539947, 1122747.6383102 ,  739634.35332835,\n",
       "       1067567.31929302, 1667592.50973894, 1864455.97854727,\n",
       "       1579099.16973707,  967688.45447603, 1416605.83453251,\n",
       "       2062165.6189159 , 2170645.7730275 , 1901786.79198264,\n",
       "       1733725.8576039 , 1753508.37671088, 1712712.42549793,\n",
       "       1733493.58223704, 1770340.59820152, 1310901.04423278,\n",
       "       1008023.90988479, 1061378.72275937,  662457.82170032,\n",
       "        729648.40292042, 1370253.32454607, 1741943.51510477,\n",
       "       1593454.39731165, 1172442.70958935,  671601.50140397,\n",
       "        511587.36577999, 1454955.01309651, 2126817.74478931,\n",
       "       2263953.80252065, 2028172.33782058, 1992515.52928076,\n",
       "       2172520.74824958, 2035403.53821734, 1758624.07224118,\n",
       "       1514817.58748751, 1002116.10560138,  669379.60246186,\n",
       "        544978.32282228,  576722.03477822, 1098371.32650044,\n",
       "       1603057.05343342, 1612844.9628943 , 1293107.69776292,\n",
       "        917550.19379031,  683222.76399661,  608782.9970117 ,\n",
       "       1391473.37940338, 2082151.30610959, 2298916.31712194,\n",
       "       2140360.89085301, 2070900.53848139, 2159471.16950069,\n",
       "       1981772.43302268, 1521754.51234483, 1076334.48566229,\n",
       "        610262.09016784,  351852.98340463,  461487.76014371,\n",
       "        878540.35993716, 1337597.14727235, 1481891.62067959,\n",
       "       1342562.57238702, 1127940.7938917 ,  958491.46945893,\n",
       "        884951.02023252,  671520.41386275, 1232265.31295029,\n",
       "       1877169.85821328, 2239501.99047453, 2199634.11766746,\n",
       "       1930471.52367231, 1666073.70450195, 1364054.30645475,\n",
       "       1000936.25390228,  656080.4807584 ,  389810.08772879,\n",
       "        340150.21186292,  602275.43941512,  959623.37641554,\n",
       "       1156974.48558908, 1135816.98677811, 1044294.97185608,\n",
       "        992281.03054235,  964376.78121195,  966024.75721637,\n",
       "       1491250.50567592, 1970679.86657323, 2139321.52912071,\n",
       "       1894361.40873893, 1368494.55142173,  829396.0748877 ,\n",
       "        488455.2593109 ,  331978.0881876 ,  293365.6522867 ,\n",
       "        387474.16211623,  600489.80555107,  783767.50733718,\n",
       "        831013.99296773,  768407.80393859,  738760.56078589,\n",
       "        761413.2207266 ,  781528.79224196,  615612.72460391,\n",
       "        975765.83585219, 1382346.64772363, 1684701.13053516,\n",
       "       1732335.24360485, 1492804.58962322, 1144230.23099218,\n",
       "        852589.97157849,  719215.03719449,  675891.53891189,\n",
       "        687917.51524022,  708292.7091195 ,  673810.3284976 ,\n",
       "        550803.45299244,  428370.79439971,  384587.47807059,\n",
       "        407022.00975207,  441201.32284903,  661202.45504686,\n",
       "        904150.80474089, 1098249.3433404 , 1225055.27306613,\n",
       "       1312843.88397647, 1325774.40817929, 1236093.76813095,\n",
       "       1036608.01098299,  829620.55626673,  654964.88596564,\n",
       "        520032.72156303,  387948.22204602,  273436.3984681 ,\n",
       "        203015.85080752,  255471.93956392,  389884.80778865,\n",
       "        561308.92316733,  759511.9469533 ,  942402.80700559,\n",
       "       1044698.95132915, 1009807.32615995,  844407.23356343,\n",
       "        695110.21243548,  637789.62877944,  600582.89899188,\n",
       "        519392.96529491,  399631.65341908, 1006027.89058977,\n",
       "       1352052.90333274, 1647606.90721163, 1761733.40813974,\n",
       "       1664096.76785047, 1396834.58681769, 1159784.36287753,\n",
       "       1001178.01359168,  847886.28143966])"
      ]
     },
     "execution_count": 14,
     "metadata": {},
     "output_type": "execute_result"
    }
   ],
   "source": [
    "chivalue,pvalue = chi2(x_fsvar,y)\n",
    "chivalue"
   ]
  },
  {
   "cell_type": "code",
   "execution_count": 15,
   "id": "fb800693",
   "metadata": {},
   "outputs": [
    {
     "data": {
      "text/plain": [
       "array([0., 0., 0., 0., 0., 0., 0., 0., 0., 0., 0., 0., 0., 0., 0., 0., 0.,\n",
       "       0., 0., 0., 0., 0., 0., 0., 0., 0., 0., 0., 0., 0., 0., 0., 0., 0.,\n",
       "       0., 0., 0., 0., 0., 0., 0., 0., 0., 0., 0., 0., 0., 0., 0., 0., 0.,\n",
       "       0., 0., 0., 0., 0., 0., 0., 0., 0., 0., 0., 0., 0., 0., 0., 0., 0.,\n",
       "       0., 0., 0., 0., 0., 0., 0., 0., 0., 0., 0., 0., 0., 0., 0., 0., 0.,\n",
       "       0., 0., 0., 0., 0., 0., 0., 0., 0., 0., 0., 0., 0., 0., 0., 0., 0.,\n",
       "       0., 0., 0., 0., 0., 0., 0., 0., 0., 0., 0., 0., 0., 0., 0., 0., 0.,\n",
       "       0., 0., 0., 0., 0., 0., 0., 0., 0., 0., 0., 0., 0., 0., 0., 0., 0.,\n",
       "       0., 0., 0., 0., 0., 0., 0., 0., 0., 0., 0., 0., 0., 0., 0., 0., 0.,\n",
       "       0., 0., 0., 0., 0., 0., 0., 0., 0., 0., 0., 0., 0., 0., 0., 0., 0.,\n",
       "       0., 0., 0., 0., 0., 0., 0., 0., 0., 0., 0., 0., 0., 0., 0., 0., 0.,\n",
       "       0., 0., 0., 0., 0., 0., 0., 0., 0., 0., 0., 0., 0., 0., 0., 0., 0.,\n",
       "       0., 0., 0., 0., 0., 0., 0., 0., 0., 0., 0., 0., 0., 0., 0., 0., 0.,\n",
       "       0., 0., 0., 0., 0., 0., 0., 0., 0., 0., 0., 0., 0., 0., 0., 0., 0.,\n",
       "       0., 0., 0., 0., 0., 0., 0., 0., 0., 0., 0., 0., 0., 0., 0., 0., 0.,\n",
       "       0., 0., 0., 0., 0., 0., 0., 0., 0., 0., 0., 0., 0., 0., 0., 0., 0.,\n",
       "       0., 0., 0., 0., 0., 0., 0., 0., 0., 0., 0., 0., 0., 0., 0., 0., 0.,\n",
       "       0., 0., 0., 0., 0., 0., 0., 0., 0., 0., 0., 0., 0., 0., 0., 0., 0.,\n",
       "       0., 0., 0., 0., 0., 0., 0., 0., 0., 0., 0., 0., 0., 0., 0., 0., 0.,\n",
       "       0., 0., 0., 0., 0., 0., 0., 0., 0., 0., 0., 0., 0., 0., 0., 0., 0.,\n",
       "       0., 0., 0., 0., 0., 0., 0., 0., 0., 0., 0., 0., 0., 0., 0., 0., 0.,\n",
       "       0., 0., 0., 0., 0., 0., 0., 0., 0., 0., 0., 0., 0., 0., 0., 0., 0.,\n",
       "       0., 0., 0., 0., 0., 0., 0., 0., 0., 0., 0., 0., 0., 0., 0., 0., 0.,\n",
       "       0.])"
      ]
     },
     "execution_count": 15,
     "metadata": {},
     "output_type": "execute_result"
    }
   ],
   "source": [
    "pvalue"
   ]
  },
  {
   "cell_type": "code",
   "execution_count": 17,
   "id": "db2e337b",
   "metadata": {},
   "outputs": [],
   "source": [
    "k0 = chivalue.shape[0] - (pvalue > 0.05).sum()"
   ]
  },
  {
   "cell_type": "code",
   "execution_count": 18,
   "id": "610b7603",
   "metadata": {},
   "outputs": [
    {
     "data": {
      "text/plain": [
       "(42000, 392)"
      ]
     },
     "execution_count": 18,
     "metadata": {},
     "output_type": "execute_result"
    }
   ],
   "source": [
    "x_fschi = SelectKBest(chi2, k=k0).fit_transform(x_fsvar,y)\n",
    "x_fschi.shape"
   ]
  },
  {
   "cell_type": "code",
   "execution_count": 19,
   "id": "e2d12487",
   "metadata": {},
   "outputs": [],
   "source": [
    "#F test\n",
    "from sklearn.feature_selection import f_classif\n",
    "F,pvalue_f = f_classif(x_fsvar,y)"
   ]
  },
  {
   "cell_type": "code",
   "execution_count": 20,
   "id": "8c32d372",
   "metadata": {},
   "outputs": [
    {
     "data": {
      "text/plain": [
       "array([ 618.65383492,  846.18897012, 1115.40617051, 1362.3677305 ,\n",
       "       1452.03355369, 1381.09095571, 1138.26505266,  464.29616121,\n",
       "        660.00977785,  849.66393412, 1004.7450309 , 1124.76177588,\n",
       "       1200.99190762, 1209.29489877, 1110.4944286 ,  854.66183292,\n",
       "        577.52063451,  342.09729054,  178.67397866,  118.01145533,\n",
       "        612.12261014,  899.40904291, 1196.17528948, 1424.49864852,\n",
       "       1569.26556677, 1742.49910702, 1910.98023795, 1969.20520223,\n",
       "       1731.37475948, 1295.09668012,  839.15325001,  531.97951763,\n",
       "        371.82392681,  336.00820537,  378.93378743,  317.47025479,\n",
       "        528.94881012,  766.40792176,  947.63168717, 1086.0472161 ,\n",
       "       1177.72017709, 1253.79641973, 1344.06961068, 1507.33781169,\n",
       "       1616.50454434, 1512.25864876, 1289.65180587, 1051.26276412,\n",
       "        839.48869386,  680.07426932,  600.85538567,  633.55772663,\n",
       "        683.96908509,  347.65867784,  452.76238211,  509.16387684,\n",
       "        515.7498157 ,  532.86107778,  594.62512658,  664.18740444,\n",
       "        709.37133696,  798.11767931,  876.69849088,  852.76926441,\n",
       "        785.70173347,  802.88980095,  813.2041131 ,  760.85552527,\n",
       "        687.94148028,  642.84071735,  698.11530217,  367.16414289,\n",
       "        455.90449427,  485.50500277,  476.23046034,  536.72332365,\n",
       "        740.12587382, 1041.38089649, 1168.8028973 ,  941.91083922,\n",
       "        795.72843454,  861.29818828,  868.19464432,  838.80173567,\n",
       "        886.26659655,  959.12740961,  934.56890789,  783.1988476 ,\n",
       "        631.01107034,  542.02937189,  493.83337615,  533.27899195,\n",
       "        572.34131749,  657.20547321,  981.66873526, 1465.82267956,\n",
       "       1756.05831022, 1385.28086085,  798.73125604,  761.40508874,\n",
       "       1062.6919609 ,  979.38193965,  947.82602644, 1085.00522683,\n",
       "       1152.13801689, 1118.1595422 , 1021.13086631,  812.37823266,\n",
       "        509.86857625,  411.37986706,  430.7150329 ,  545.55866945,\n",
       "        829.92259533, 1376.4852629 , 1811.62922878, 1601.33613631,\n",
       "        898.8719158 ,  417.37765921,  895.77244253, 1455.38592931,\n",
       "        956.2421521 ,  990.1748413 , 1359.47406197, 1279.27992017,\n",
       "       1166.80888121, 1291.41792351, 1263.86987819,  787.81807986,\n",
       "        237.21811742,  333.12552194,  621.47324186, 1139.04489426,\n",
       "       1713.54508435, 1823.42451065, 1436.53069242,  884.19442779,\n",
       "        717.63373994, 2026.90370414, 2219.46450157,  943.55587655,\n",
       "       1217.29127813, 1677.03878308, 1193.63540136, 1039.56842784,\n",
       "       1570.18098323, 1878.5600272 , 1284.78903715,  190.02740438,\n",
       "        444.17019739,  928.80156872, 1562.54171587, 1940.54801063,\n",
       "       1816.57346013, 1683.83193784, 1619.17496376, 1865.78706551,\n",
       "       3482.82350415, 2326.10253286,  990.67999393, 1632.46650414,\n",
       "       1652.51500198,  891.26746579,  883.96689508, 1805.57103626,\n",
       "       2389.97435433, 1630.34926872,  301.84091297,  746.3286491 ,\n",
       "       1394.82469151, 2008.19411716, 2107.3680475 , 1767.97892382,\n",
       "       1786.08753011, 1980.1986791 , 2509.14739387, 3366.13986444,\n",
       "       1959.90573326, 1299.36608875, 2218.28123025, 1470.25657381,\n",
       "        681.02610086,  937.54741741, 2037.45812231, 2518.68810085,\n",
       "       1583.0009463 ,  509.76276636, 1139.21364745, 1881.71834116,\n",
       "       2351.30851824, 2175.48525458, 1624.49647062, 1399.44534221,\n",
       "       1440.98664744, 2229.25720739, 2764.00452882, 1633.74258116,\n",
       "       1870.29253742, 2628.79930504, 1367.31440177,  707.38857243,\n",
       "       1150.06936228, 2089.08213594, 2185.00557858, 1318.14722036,\n",
       "        747.37697661, 1453.94015412, 2116.40726513, 2399.53090598,\n",
       "       2143.53519978, 1651.89817908, 1414.71662551, 1481.62100314,\n",
       "       2468.21266727, 2666.18025642, 1520.6400065 , 2223.14029953,\n",
       "       2271.07109628, 1111.06997494,  844.31183874, 1388.60413626,\n",
       "       1917.10207189, 1667.61400215,  996.09054823,  907.80926355,\n",
       "       1607.70263546, 2085.21461056, 2073.68356276, 1880.26929744,\n",
       "       1756.40165025, 1716.45478479, 1964.08537105, 2796.13761562,\n",
       "       2413.09378391, 1543.01310963, 2118.10377396, 1475.29541488,\n",
       "        783.59003763, 1040.65400476, 1582.46200024, 1617.32566033,\n",
       "       1188.24554305,  642.2665701 , 1011.30241064, 1725.70185142,\n",
       "       2067.20755476, 1893.35116837, 1795.96538455, 1922.58627318,\n",
       "       1951.69309645, 2115.44871238, 2479.27958039, 1809.12095649,\n",
       "       1330.8686207 , 1396.29767244,  741.9063402 ,  751.14036409,\n",
       "       1410.18529816, 1677.6595494 , 1308.77910167,  836.77047561,\n",
       "        430.93133677,  313.888671  , 1039.31894918, 1811.68171256,\n",
       "       2191.69964967, 2035.63638826, 2114.65218363, 2511.27142071,\n",
       "       2363.46743373, 2053.7687027 , 1865.84769096, 1202.94179711,\n",
       "        793.61414555,  633.71267282,  636.18282736, 1218.61245591,\n",
       "       1712.62901816, 1484.60290068,  996.06129466,  626.13659134,\n",
       "        441.56356583,  374.08815796,  983.21640593, 1764.93014215,\n",
       "       2264.93587233, 2262.87269162, 2323.50890468, 2611.66920897,\n",
       "       2387.45723028, 1763.5696083 , 1256.32165954,  704.77285945,\n",
       "        406.94580935,  548.06969664, 1051.50016486, 1542.11172909,\n",
       "       1494.38472469, 1130.61174365,  823.84437277,  650.69506052,\n",
       "        594.18011033,  415.73313115,  853.97575783, 1548.7167469 ,\n",
       "       2204.00694989, 2444.69535795, 2267.62871155, 2003.69161124,\n",
       "       1643.94961527, 1202.35520102,  804.18805494,  483.32932365,\n",
       "        420.99263006,  750.06949525, 1136.32227345, 1202.49476981,\n",
       "        990.75097727,  791.03016258,  692.46641159,  653.96372577,\n",
       "        647.90433225, 1149.80460733, 1826.54973661, 2361.75564926,\n",
       "       2313.09139096, 1694.26613916, 1012.97938867,  608.4174945 ,\n",
       "        432.07115684,  383.54620406,  487.70312805,  698.78061024,\n",
       "        797.0763827 ,  714.70722998,  574.2849126 ,  507.5143557 ,\n",
       "        508.77434021,  510.36884435,  404.13860698,  686.31274396,\n",
       "       1103.81003251, 1590.83695172, 1912.74984902, 1832.62220523,\n",
       "       1482.39046946, 1142.10827805,  968.65089356,  860.24853405,\n",
       "        780.75215696,  696.78170045,  567.41403081,  403.59649375,\n",
       "        284.91007929,  245.59060983,  255.97458001,  293.6787996 ,\n",
       "        460.46868009,  687.29383613,  940.06512113, 1205.58777055,\n",
       "       1485.37178744, 1623.12886955, 1488.04856361, 1119.91615126,\n",
       "        770.06544455,  530.6398126 ,  376.66549502,  258.05875548,\n",
       "        172.20323661,  123.79865884,  160.44132806,  249.15104257,\n",
       "        374.15221131,  544.73535425,  727.78945347,  853.98680046,\n",
       "        819.19801306,  656.55547718,  510.87851723,  445.09613969,\n",
       "        401.25608847,  333.48574029,  243.88699402,  645.9545719 ,\n",
       "        920.3259526 , 1196.07900013, 1308.12260763, 1218.37705687,\n",
       "        996.41501921,  792.59409228,  663.47516843,  550.14745143])"
      ]
     },
     "execution_count": 20,
     "metadata": {},
     "output_type": "execute_result"
    }
   ],
   "source": [
    "F"
   ]
  },
  {
   "cell_type": "code",
   "execution_count": 21,
   "id": "d3d375da",
   "metadata": {},
   "outputs": [
    {
     "data": {
      "text/plain": [
       "array([0.00000000e+000, 0.00000000e+000, 0.00000000e+000, 0.00000000e+000,\n",
       "       0.00000000e+000, 0.00000000e+000, 0.00000000e+000, 0.00000000e+000,\n",
       "       0.00000000e+000, 0.00000000e+000, 0.00000000e+000, 0.00000000e+000,\n",
       "       0.00000000e+000, 0.00000000e+000, 0.00000000e+000, 0.00000000e+000,\n",
       "       0.00000000e+000, 0.00000000e+000, 0.00000000e+000, 4.71193533e-220,\n",
       "       0.00000000e+000, 0.00000000e+000, 0.00000000e+000, 0.00000000e+000,\n",
       "       0.00000000e+000, 0.00000000e+000, 0.00000000e+000, 0.00000000e+000,\n",
       "       0.00000000e+000, 0.00000000e+000, 0.00000000e+000, 0.00000000e+000,\n",
       "       0.00000000e+000, 0.00000000e+000, 0.00000000e+000, 0.00000000e+000,\n",
       "       0.00000000e+000, 0.00000000e+000, 0.00000000e+000, 0.00000000e+000,\n",
       "       0.00000000e+000, 0.00000000e+000, 0.00000000e+000, 0.00000000e+000,\n",
       "       0.00000000e+000, 0.00000000e+000, 0.00000000e+000, 0.00000000e+000,\n",
       "       0.00000000e+000, 0.00000000e+000, 0.00000000e+000, 0.00000000e+000,\n",
       "       0.00000000e+000, 0.00000000e+000, 0.00000000e+000, 0.00000000e+000,\n",
       "       0.00000000e+000, 0.00000000e+000, 0.00000000e+000, 0.00000000e+000,\n",
       "       0.00000000e+000, 0.00000000e+000, 0.00000000e+000, 0.00000000e+000,\n",
       "       0.00000000e+000, 0.00000000e+000, 0.00000000e+000, 0.00000000e+000,\n",
       "       0.00000000e+000, 0.00000000e+000, 0.00000000e+000, 0.00000000e+000,\n",
       "       0.00000000e+000, 0.00000000e+000, 0.00000000e+000, 0.00000000e+000,\n",
       "       0.00000000e+000, 0.00000000e+000, 0.00000000e+000, 0.00000000e+000,\n",
       "       0.00000000e+000, 0.00000000e+000, 0.00000000e+000, 0.00000000e+000,\n",
       "       0.00000000e+000, 0.00000000e+000, 0.00000000e+000, 0.00000000e+000,\n",
       "       0.00000000e+000, 0.00000000e+000, 0.00000000e+000, 0.00000000e+000,\n",
       "       0.00000000e+000, 0.00000000e+000, 0.00000000e+000, 0.00000000e+000,\n",
       "       0.00000000e+000, 0.00000000e+000, 0.00000000e+000, 0.00000000e+000,\n",
       "       0.00000000e+000, 0.00000000e+000, 0.00000000e+000, 0.00000000e+000,\n",
       "       0.00000000e+000, 0.00000000e+000, 0.00000000e+000, 0.00000000e+000,\n",
       "       0.00000000e+000, 0.00000000e+000, 0.00000000e+000, 0.00000000e+000,\n",
       "       0.00000000e+000, 0.00000000e+000, 0.00000000e+000, 0.00000000e+000,\n",
       "       0.00000000e+000, 0.00000000e+000, 0.00000000e+000, 0.00000000e+000,\n",
       "       0.00000000e+000, 0.00000000e+000, 0.00000000e+000, 0.00000000e+000,\n",
       "       0.00000000e+000, 0.00000000e+000, 0.00000000e+000, 0.00000000e+000,\n",
       "       0.00000000e+000, 0.00000000e+000, 0.00000000e+000, 0.00000000e+000,\n",
       "       0.00000000e+000, 0.00000000e+000, 0.00000000e+000, 0.00000000e+000,\n",
       "       0.00000000e+000, 0.00000000e+000, 0.00000000e+000, 0.00000000e+000,\n",
       "       0.00000000e+000, 0.00000000e+000, 0.00000000e+000, 0.00000000e+000,\n",
       "       0.00000000e+000, 0.00000000e+000, 0.00000000e+000, 0.00000000e+000,\n",
       "       0.00000000e+000, 0.00000000e+000, 0.00000000e+000, 0.00000000e+000,\n",
       "       0.00000000e+000, 0.00000000e+000, 0.00000000e+000, 0.00000000e+000,\n",
       "       0.00000000e+000, 0.00000000e+000, 0.00000000e+000, 0.00000000e+000,\n",
       "       0.00000000e+000, 0.00000000e+000, 0.00000000e+000, 0.00000000e+000,\n",
       "       0.00000000e+000, 0.00000000e+000, 0.00000000e+000, 0.00000000e+000,\n",
       "       0.00000000e+000, 0.00000000e+000, 0.00000000e+000, 0.00000000e+000,\n",
       "       0.00000000e+000, 0.00000000e+000, 0.00000000e+000, 0.00000000e+000,\n",
       "       0.00000000e+000, 0.00000000e+000, 0.00000000e+000, 0.00000000e+000,\n",
       "       0.00000000e+000, 0.00000000e+000, 0.00000000e+000, 0.00000000e+000,\n",
       "       0.00000000e+000, 0.00000000e+000, 0.00000000e+000, 0.00000000e+000,\n",
       "       0.00000000e+000, 0.00000000e+000, 0.00000000e+000, 0.00000000e+000,\n",
       "       0.00000000e+000, 0.00000000e+000, 0.00000000e+000, 0.00000000e+000,\n",
       "       0.00000000e+000, 0.00000000e+000, 0.00000000e+000, 0.00000000e+000,\n",
       "       0.00000000e+000, 0.00000000e+000, 0.00000000e+000, 0.00000000e+000,\n",
       "       0.00000000e+000, 0.00000000e+000, 0.00000000e+000, 0.00000000e+000,\n",
       "       0.00000000e+000, 0.00000000e+000, 0.00000000e+000, 0.00000000e+000,\n",
       "       0.00000000e+000, 0.00000000e+000, 0.00000000e+000, 0.00000000e+000,\n",
       "       0.00000000e+000, 0.00000000e+000, 0.00000000e+000, 0.00000000e+000,\n",
       "       0.00000000e+000, 0.00000000e+000, 0.00000000e+000, 0.00000000e+000,\n",
       "       0.00000000e+000, 0.00000000e+000, 0.00000000e+000, 0.00000000e+000,\n",
       "       0.00000000e+000, 0.00000000e+000, 0.00000000e+000, 0.00000000e+000,\n",
       "       0.00000000e+000, 0.00000000e+000, 0.00000000e+000, 0.00000000e+000,\n",
       "       0.00000000e+000, 0.00000000e+000, 0.00000000e+000, 0.00000000e+000,\n",
       "       0.00000000e+000, 0.00000000e+000, 0.00000000e+000, 0.00000000e+000,\n",
       "       0.00000000e+000, 0.00000000e+000, 0.00000000e+000, 0.00000000e+000,\n",
       "       0.00000000e+000, 0.00000000e+000, 0.00000000e+000, 0.00000000e+000,\n",
       "       0.00000000e+000, 0.00000000e+000, 0.00000000e+000, 0.00000000e+000,\n",
       "       0.00000000e+000, 0.00000000e+000, 0.00000000e+000, 0.00000000e+000,\n",
       "       0.00000000e+000, 0.00000000e+000, 0.00000000e+000, 0.00000000e+000,\n",
       "       0.00000000e+000, 0.00000000e+000, 0.00000000e+000, 0.00000000e+000,\n",
       "       0.00000000e+000, 0.00000000e+000, 0.00000000e+000, 0.00000000e+000,\n",
       "       0.00000000e+000, 0.00000000e+000, 0.00000000e+000, 0.00000000e+000,\n",
       "       0.00000000e+000, 0.00000000e+000, 0.00000000e+000, 0.00000000e+000,\n",
       "       0.00000000e+000, 0.00000000e+000, 0.00000000e+000, 0.00000000e+000,\n",
       "       0.00000000e+000, 0.00000000e+000, 0.00000000e+000, 0.00000000e+000,\n",
       "       0.00000000e+000, 0.00000000e+000, 0.00000000e+000, 0.00000000e+000,\n",
       "       0.00000000e+000, 0.00000000e+000, 0.00000000e+000, 0.00000000e+000,\n",
       "       0.00000000e+000, 0.00000000e+000, 0.00000000e+000, 0.00000000e+000,\n",
       "       0.00000000e+000, 0.00000000e+000, 0.00000000e+000, 0.00000000e+000,\n",
       "       0.00000000e+000, 0.00000000e+000, 0.00000000e+000, 0.00000000e+000,\n",
       "       0.00000000e+000, 0.00000000e+000, 0.00000000e+000, 0.00000000e+000,\n",
       "       0.00000000e+000, 0.00000000e+000, 0.00000000e+000, 0.00000000e+000,\n",
       "       0.00000000e+000, 0.00000000e+000, 0.00000000e+000, 0.00000000e+000,\n",
       "       0.00000000e+000, 0.00000000e+000, 0.00000000e+000, 0.00000000e+000,\n",
       "       0.00000000e+000, 0.00000000e+000, 0.00000000e+000, 0.00000000e+000,\n",
       "       0.00000000e+000, 0.00000000e+000, 0.00000000e+000, 0.00000000e+000,\n",
       "       0.00000000e+000, 0.00000000e+000, 0.00000000e+000, 0.00000000e+000,\n",
       "       0.00000000e+000, 0.00000000e+000, 0.00000000e+000, 0.00000000e+000,\n",
       "       0.00000000e+000, 0.00000000e+000, 0.00000000e+000, 0.00000000e+000,\n",
       "       0.00000000e+000, 0.00000000e+000, 0.00000000e+000, 0.00000000e+000,\n",
       "       0.00000000e+000, 0.00000000e+000, 0.00000000e+000, 0.00000000e+000,\n",
       "       0.00000000e+000, 0.00000000e+000, 0.00000000e+000, 0.00000000e+000,\n",
       "       0.00000000e+000, 0.00000000e+000, 0.00000000e+000, 0.00000000e+000,\n",
       "       0.00000000e+000, 0.00000000e+000, 0.00000000e+000, 0.00000000e+000,\n",
       "       0.00000000e+000, 0.00000000e+000, 0.00000000e+000, 0.00000000e+000,\n",
       "       3.26083326e-322, 5.24336441e-231, 4.04009647e-300, 0.00000000e+000,\n",
       "       0.00000000e+000, 0.00000000e+000, 0.00000000e+000, 0.00000000e+000,\n",
       "       0.00000000e+000, 0.00000000e+000, 0.00000000e+000, 0.00000000e+000,\n",
       "       0.00000000e+000, 0.00000000e+000, 0.00000000e+000, 0.00000000e+000,\n",
       "       0.00000000e+000, 0.00000000e+000, 0.00000000e+000, 0.00000000e+000,\n",
       "       0.00000000e+000, 0.00000000e+000, 0.00000000e+000, 0.00000000e+000])"
      ]
     },
     "execution_count": 21,
     "metadata": {},
     "output_type": "execute_result"
    }
   ],
   "source": [
    "pvalue_f"
   ]
  },
  {
   "cell_type": "code",
   "execution_count": 22,
   "id": "ceb49a2c",
   "metadata": {},
   "outputs": [],
   "source": [
    "k1 = F.shape[0] - (pvalue_f > 0.05).sum()"
   ]
  },
  {
   "cell_type": "code",
   "execution_count": 23,
   "id": "921fd2ca",
   "metadata": {},
   "outputs": [
    {
     "data": {
      "text/plain": [
       "(42000, 392)"
      ]
     },
     "execution_count": 23,
     "metadata": {},
     "output_type": "execute_result"
    }
   ],
   "source": [
    "x_fschi = SelectKBest(chi2, k=k1).fit_transform(x_fsvar,y)\n",
    "x_fschi.shape"
   ]
  },
  {
   "cell_type": "code",
   "execution_count": 24,
   "id": "1b7b41a0",
   "metadata": {},
   "outputs": [
    {
     "data": {
      "text/plain": [
       "array([0.06326938, 0.09320537, 0.10348602, 0.11342103, 0.11974939,\n",
       "       0.10050588, 0.08012035, 0.05775896, 0.07272428, 0.0921866 ,\n",
       "       0.12051089, 0.13868889, 0.16229087, 0.16375945, 0.14730933,\n",
       "       0.1190776 , 0.08679157, 0.05602279, 0.03749567, 0.02187761,\n",
       "       0.0657071 , 0.10047445, 0.12085215, 0.14979025, 0.17890051,\n",
       "       0.20549569, 0.22685826, 0.23199675, 0.21378765, 0.18238786,\n",
       "       0.13558346, 0.10058187, 0.07764376, 0.05490707, 0.04964452,\n",
       "       0.03801357, 0.05682894, 0.07249172, 0.10678922, 0.12285586,\n",
       "       0.13406273, 0.14321121, 0.16918494, 0.18415283, 0.18481548,\n",
       "       0.17197328, 0.14794339, 0.13340469, 0.10723229, 0.09541096,\n",
       "       0.08549711, 0.06947356, 0.06257443, 0.04308107, 0.05744849,\n",
       "       0.07233364, 0.09143161, 0.09331308, 0.11072783, 0.1088577 ,\n",
       "       0.11006601, 0.11458005, 0.11379672, 0.12055178, 0.10946259,\n",
       "       0.12055332, 0.11684674, 0.11225213, 0.09886914, 0.07290477,\n",
       "       0.06956754, 0.0412913 , 0.05007121, 0.06797062, 0.07703701,\n",
       "       0.0938073 , 0.11857626, 0.14259583, 0.14261826, 0.1187956 ,\n",
       "       0.10615633, 0.11099054, 0.11119253, 0.11788055, 0.1221181 ,\n",
       "       0.13706678, 0.12740913, 0.11339755, 0.08322201, 0.06841266,\n",
       "       0.04082515, 0.04864801, 0.07508846, 0.09507941, 0.14594205,\n",
       "       0.18894024, 0.19843974, 0.15639862, 0.11064111, 0.10097181,\n",
       "       0.13204193, 0.12267978, 0.1373308 , 0.14055552, 0.14726475,\n",
       "       0.14042556, 0.12010733, 0.0834329 , 0.07070011, 0.03739106,\n",
       "       0.0499283 , 0.07965692, 0.12275194, 0.17396521, 0.2184974 ,\n",
       "       0.19395955, 0.11767651, 0.06903243, 0.11188979, 0.14976322,\n",
       "       0.12017766, 0.12652635, 0.15802694, 0.15346278, 0.14288543,\n",
       "       0.12999463, 0.10678657, 0.07396579, 0.03330169, 0.05639429,\n",
       "       0.09693575, 0.16155282, 0.21427111, 0.21581676, 0.18435221,\n",
       "       0.12121507, 0.10461143, 0.17595911, 0.18220395, 0.12589742,\n",
       "       0.14830691, 0.18145744, 0.16182444, 0.13822084, 0.1370169 ,\n",
       "       0.11761478, 0.0915088 , 0.03213046, 0.06367317, 0.12917631,\n",
       "       0.18869293, 0.22305625, 0.21652371, 0.2008622 , 0.17442103,\n",
       "       0.19532913, 0.25955207, 0.2162687 , 0.14646446, 0.18264453,\n",
       "       0.18234087, 0.1337313 , 0.13324972, 0.1496717 , 0.1441324 ,\n",
       "       0.09961561, 0.04276366, 0.08890664, 0.15664284, 0.21740665,\n",
       "       0.22418888, 0.21563519, 0.19522783, 0.20769647, 0.2468999 ,\n",
       "       0.29042589, 0.2072498 , 0.17698112, 0.21633426, 0.17710368,\n",
       "       0.12142468, 0.11452351, 0.14863755, 0.14608548, 0.10208275,\n",
       "       0.06433826, 0.11693655, 0.17745764, 0.22501415, 0.22309863,\n",
       "       0.18504495, 0.17338481, 0.18091276, 0.25707151, 0.27975057,\n",
       "       0.19473637, 0.2086268 , 0.25559763, 0.18887622, 0.12307749,\n",
       "       0.13493054, 0.15164313, 0.14374163, 0.09528344, 0.07535196,\n",
       "       0.13071606, 0.19617488, 0.22998092, 0.2099784 , 0.19550163,\n",
       "       0.169018  , 0.19619089, 0.25618625, 0.2723056 , 0.1956119 ,\n",
       "       0.23257527, 0.23378088, 0.16370788, 0.13404549, 0.1580548 ,\n",
       "       0.16665404, 0.13170532, 0.09054909, 0.08327724, 0.13989754,\n",
       "       0.18621252, 0.21357539, 0.19935996, 0.18741828, 0.18336489,\n",
       "       0.21915839, 0.26573257, 0.25353201, 0.1918638 , 0.20929611,\n",
       "       0.18259921, 0.12882131, 0.14503721, 0.16986081, 0.15264874,\n",
       "       0.11331402, 0.07165365, 0.08189806, 0.14354999, 0.18684306,\n",
       "       0.197375  , 0.19086614, 0.19285506, 0.19768398, 0.21514867,\n",
       "       0.24769837, 0.19796804, 0.15622509, 0.15584092, 0.12163503,\n",
       "       0.12534708, 0.17374936, 0.17962787, 0.13952614, 0.09727493,\n",
       "       0.05925866, 0.0426605 , 0.0984212 , 0.15367364, 0.18719276,\n",
       "       0.19217072, 0.19141363, 0.21532906, 0.21206767, 0.19355927,\n",
       "       0.20415384, 0.1451907 , 0.10323386, 0.10802688, 0.11084729,\n",
       "       0.15493961, 0.19487985, 0.1791204 , 0.1270735 , 0.09097339,\n",
       "       0.0564017 , 0.04289444, 0.11139613, 0.16241391, 0.20419993,\n",
       "       0.21190146, 0.22061301, 0.22703335, 0.20062285, 0.17627449,\n",
       "       0.14462482, 0.08969984, 0.06872868, 0.08739079, 0.14051195,\n",
       "       0.18395646, 0.19379033, 0.1496489 , 0.11054009, 0.07790251,\n",
       "       0.05393274, 0.04965762, 0.10374192, 0.16099706, 0.21996011,\n",
       "       0.23949539, 0.23406068, 0.21684945, 0.17896824, 0.13716701,\n",
       "       0.10645594, 0.07514032, 0.07232444, 0.1113996 , 0.14794051,\n",
       "       0.16067038, 0.14529305, 0.12296064, 0.09316387, 0.06668746,\n",
       "       0.0928946 , 0.14367084, 0.20284204, 0.2338809 , 0.23552708,\n",
       "       0.19344591, 0.14068   , 0.09638015, 0.06774569, 0.06968406,\n",
       "       0.08423786, 0.10443646, 0.12155164, 0.11680547, 0.0956362 ,\n",
       "       0.07926258, 0.05700823, 0.04697062, 0.06479597, 0.10215162,\n",
       "       0.1453225 , 0.1842662 , 0.19014018, 0.184478  , 0.163164  ,\n",
       "       0.12857452, 0.11674989, 0.11356599, 0.10763508, 0.096951  ,\n",
       "       0.08547442, 0.07423366, 0.05693808, 0.03730102, 0.02836563,\n",
       "       0.05046469, 0.07624004, 0.11015201, 0.12612384, 0.15330931,\n",
       "       0.17818062, 0.18809235, 0.18479348, 0.15333829, 0.12000492,\n",
       "       0.09632283, 0.0755966 , 0.04462552, 0.03885466, 0.0258212 ,\n",
       "       0.02797363, 0.0516546 , 0.06482687, 0.08619129, 0.1107176 ,\n",
       "       0.12358069, 0.11912354, 0.10940105, 0.08768034, 0.07465384,\n",
       "       0.06002143, 0.04205398, 0.02804387, 0.06447582, 0.08484313,\n",
       "       0.10148325, 0.11864388, 0.10814974, 0.10164041, 0.08136606,\n",
       "       0.06668108, 0.05724232])"
      ]
     },
     "execution_count": 24,
     "metadata": {},
     "output_type": "execute_result"
    }
   ],
   "source": [
    "# mutual info\n",
    "from sklearn.feature_selection import mutual_info_classif as MIC\n",
    "result = MIC(x_fsvar,y)\n",
    "result"
   ]
  },
  {
   "cell_type": "code",
   "execution_count": 25,
   "id": "c37fbf7e",
   "metadata": {},
   "outputs": [
    {
     "data": {
      "text/plain": [
       "392"
      ]
     },
     "execution_count": 25,
     "metadata": {},
     "output_type": "execute_result"
    }
   ],
   "source": [
    "k3 = result.shape[0] - sum(result<=0)\n",
    "k3"
   ]
  },
  {
   "cell_type": "code",
   "execution_count": 27,
   "id": "295ddc6e",
   "metadata": {},
   "outputs": [
    {
     "data": {
      "text/plain": [
       "(42000, 47)"
      ]
     },
     "execution_count": 27,
     "metadata": {},
     "output_type": "execute_result"
    }
   ],
   "source": [
    "#embedded\n",
    "from sklearn.feature_selection import SelectFromModel\n",
    "RFC_ = RFC(n_estimators=10,random_state=0)\n",
    "x_embedded = SelectFromModel(RFC_, threshold = 0.005).fit_transform(x,y)\n",
    "x_embedded.shape"
   ]
  },
  {
   "cell_type": "code",
   "execution_count": 28,
   "id": "15d8cc59",
   "metadata": {},
   "outputs": [
    {
     "data": {
      "text/plain": [
       "array([0.00000000e+00, 0.00000000e+00, 0.00000000e+00, 0.00000000e+00,\n",
       "       0.00000000e+00, 0.00000000e+00, 0.00000000e+00, 0.00000000e+00,\n",
       "       0.00000000e+00, 0.00000000e+00, 0.00000000e+00, 0.00000000e+00,\n",
       "       0.00000000e+00, 0.00000000e+00, 0.00000000e+00, 0.00000000e+00,\n",
       "       0.00000000e+00, 0.00000000e+00, 0.00000000e+00, 0.00000000e+00,\n",
       "       0.00000000e+00, 0.00000000e+00, 0.00000000e+00, 0.00000000e+00,\n",
       "       0.00000000e+00, 0.00000000e+00, 0.00000000e+00, 0.00000000e+00,\n",
       "       0.00000000e+00, 0.00000000e+00, 0.00000000e+00, 0.00000000e+00,\n",
       "       0.00000000e+00, 0.00000000e+00, 4.96726660e-06, 0.00000000e+00,\n",
       "       0.00000000e+00, 0.00000000e+00, 0.00000000e+00, 4.39623410e-06,\n",
       "       7.35101726e-06, 0.00000000e+00, 0.00000000e+00, 0.00000000e+00,\n",
       "       4.70425050e-06, 0.00000000e+00, 0.00000000e+00, 0.00000000e+00,\n",
       "       0.00000000e+00, 0.00000000e+00, 5.09114204e-06, 0.00000000e+00,\n",
       "       0.00000000e+00, 0.00000000e+00, 0.00000000e+00, 0.00000000e+00,\n",
       "       0.00000000e+00, 0.00000000e+00, 0.00000000e+00, 0.00000000e+00,\n",
       "       0.00000000e+00, 0.00000000e+00, 0.00000000e+00, 1.04375545e-05,\n",
       "       0.00000000e+00, 0.00000000e+00, 5.29478959e-05, 3.21066639e-04,\n",
       "       3.72896708e-05, 7.84734515e-05, 3.81080672e-05, 4.28007718e-05,\n",
       "       7.70708109e-06, 4.96573475e-05, 1.07617170e-04, 1.68715849e-05,\n",
       "       1.17836211e-05, 2.55943987e-05, 0.00000000e+00, 0.00000000e+00,\n",
       "       0.00000000e+00, 0.00000000e+00, 0.00000000e+00, 0.00000000e+00,\n",
       "       0.00000000e+00, 0.00000000e+00, 0.00000000e+00, 0.00000000e+00,\n",
       "       0.00000000e+00, 4.98169346e-06, 4.94027841e-06, 2.83311486e-05,\n",
       "       4.09543756e-05, 1.72821858e-04, 9.57100915e-05, 2.45907321e-04,\n",
       "       1.83422252e-04, 1.67021648e-03, 1.33678817e-03, 4.97681606e-04,\n",
       "       9.81528697e-04, 2.57107282e-03, 1.29146589e-03, 1.65060000e-03,\n",
       "       1.86071384e-04, 9.53324105e-05, 2.15756468e-05, 1.93742313e-05,\n",
       "       1.76038786e-05, 1.04294263e-05, 0.00000000e+00, 0.00000000e+00,\n",
       "       0.00000000e+00, 0.00000000e+00, 0.00000000e+00, 0.00000000e+00,\n",
       "       0.00000000e+00, 2.67461542e-05, 6.87034035e-06, 7.72427467e-05,\n",
       "       1.32367326e-04, 1.90286903e-04, 5.95754392e-04, 1.20094659e-03,\n",
       "       8.38179934e-04, 1.55287193e-03, 1.25015678e-03, 3.10076865e-03,\n",
       "       3.53710687e-03, 6.09457703e-04, 4.40384898e-04, 6.77374025e-04,\n",
       "       5.30201989e-04, 1.79987666e-04, 1.82267211e-04, 5.92697964e-05,\n",
       "       1.80767363e-05, 5.24921596e-06, 0.00000000e+00, 0.00000000e+00,\n",
       "       0.00000000e+00, 0.00000000e+00, 0.00000000e+00, 0.00000000e+00,\n",
       "       3.63793673e-05, 6.43483201e-05, 8.13740620e-05, 1.76906929e-04,\n",
       "       3.00785753e-04, 2.00237912e-03, 2.17988175e-03, 8.02080061e-04,\n",
       "       5.59932650e-03, 5.32674802e-03, 9.82923375e-03, 4.75128066e-03,\n",
       "       7.25896751e-03, 2.57320673e-03, 6.13199153e-03, 2.79002672e-03,\n",
       "       8.60740254e-04, 1.68934107e-03, 6.62626894e-04, 3.72068454e-04,\n",
       "       1.11864559e-04, 5.01402939e-06, 2.59729852e-06, 0.00000000e+00,\n",
       "       0.00000000e+00, 0.00000000e+00, 0.00000000e+00, 5.24370634e-06,\n",
       "       5.39166565e-05, 3.11018823e-05, 2.34878167e-04, 3.89033229e-04,\n",
       "       2.30902923e-03, 2.57256846e-03, 1.38900529e-03, 2.65304800e-03,\n",
       "       4.67867505e-03, 3.49571544e-03, 1.74013763e-03, 4.74732141e-03,\n",
       "       2.19504075e-03, 2.01126998e-03, 2.39322271e-03, 1.94485134e-03,\n",
       "       1.91736734e-03, 1.26111979e-03, 7.17005718e-04, 1.41834376e-03,\n",
       "       2.47847664e-04, 4.23798505e-05, 0.00000000e+00, 0.00000000e+00,\n",
       "       0.00000000e+00, 0.00000000e+00, 2.64644966e-06, 1.02232772e-05,\n",
       "       4.19366739e-05, 1.51187645e-04, 3.84353726e-04, 5.75432437e-04,\n",
       "       1.20251320e-03, 1.11728097e-03, 1.43117176e-03, 1.85993731e-03,\n",
       "       3.18900495e-03, 4.24721472e-03, 7.15525695e-03, 4.59547276e-03,\n",
       "       7.86762226e-03, 4.41108734e-03, 1.54578735e-03, 1.06705126e-03,\n",
       "       1.49258829e-03, 1.28480766e-03, 9.93716659e-04, 1.33748351e-03,\n",
       "       1.04061523e-03, 1.40851781e-04, 2.46917895e-05, 0.00000000e+00,\n",
       "       0.00000000e+00, 0.00000000e+00, 1.23372533e-05, 1.91675705e-05,\n",
       "       2.16315147e-04, 2.36117271e-04, 8.51271969e-04, 7.04486223e-04,\n",
       "       1.07859246e-03, 1.64029329e-03, 2.90544958e-03, 3.15084018e-03,\n",
       "       4.87802961e-03, 2.34634670e-03, 3.93852105e-03, 5.43460799e-03,\n",
       "       5.86237142e-03, 3.15346289e-03, 6.82349562e-03, 4.34223264e-03,\n",
       "       3.86949586e-03, 2.03220256e-03, 7.00743969e-04, 1.01816134e-03,\n",
       "       6.52755553e-04, 1.05428274e-04, 4.64072405e-06, 8.60096309e-06,\n",
       "       0.00000000e+00, 9.18662879e-06, 7.05716770e-06, 2.57599316e-05,\n",
       "       6.82385198e-05, 2.48904426e-04, 1.27880958e-03, 1.34106798e-03,\n",
       "       9.88188421e-04, 2.10154796e-03, 3.36772807e-03, 6.04369789e-03,\n",
       "       3.07695369e-03, 3.00021995e-03, 3.37748090e-03, 4.86394760e-03,\n",
       "       3.54139826e-03, 5.97819039e-03, 1.71616932e-03, 4.15596755e-03,\n",
       "       2.47392287e-03, 2.36136390e-03, 1.63397286e-03, 4.48393070e-04,\n",
       "       5.54092223e-04, 4.14227893e-05, 0.00000000e+00, 0.00000000e+00,\n",
       "       0.00000000e+00, 0.00000000e+00, 5.26899634e-06, 1.56088268e-04,\n",
       "       1.13966961e-04, 1.74915348e-04, 6.44627258e-04, 5.68303338e-04,\n",
       "       1.63319806e-03, 4.62162655e-03, 5.83028006e-03, 5.84100388e-03,\n",
       "       2.83270210e-03, 2.14239040e-03, 3.35948722e-03, 2.60839810e-03,\n",
       "       2.50701816e-03, 4.82670205e-03, 5.89666662e-03, 3.04992055e-03,\n",
       "       3.41911464e-03, 1.12637810e-03, 7.01707700e-04, 2.10535503e-04,\n",
       "       2.04943891e-04, 6.40794860e-05, 2.64614091e-06, 0.00000000e+00,\n",
       "       0.00000000e+00, 0.00000000e+00, 3.52876307e-06, 1.73010344e-05,\n",
       "       3.23154454e-04, 1.18730749e-04, 5.01029809e-04, 1.50202308e-03,\n",
       "       1.53700272e-03, 6.11456403e-03, 4.34902573e-03, 3.35546394e-03,\n",
       "       5.87789239e-03, 2.51293898e-03, 3.17370607e-03, 3.45751913e-03,\n",
       "       2.29793132e-03, 4.17392058e-03, 5.82675966e-03, 2.83060606e-03,\n",
       "       3.79048860e-03, 1.04936114e-03, 7.03677686e-04, 6.28439770e-04,\n",
       "       1.15259208e-04, 7.44590415e-05, 1.04994603e-05, 0.00000000e+00,\n",
       "       0.00000000e+00, 0.00000000e+00, 1.58480368e-05, 8.38015968e-06,\n",
       "       7.29727487e-05, 4.58356454e-04, 5.41496181e-04, 1.05167245e-03,\n",
       "       1.64596693e-03, 3.00082596e-03, 5.53132168e-03, 4.04488155e-03,\n",
       "       2.62974709e-03, 5.05500552e-03, 6.96693959e-03, 3.39745427e-03,\n",
       "       3.32871913e-03, 3.41607543e-03, 2.74289623e-03, 1.34605792e-03,\n",
       "       1.28266397e-03, 2.86907034e-03, 4.37592501e-03, 5.70010069e-04,\n",
       "       6.28420535e-05, 8.66985846e-06, 1.88614134e-05, 0.00000000e+00,\n",
       "       0.00000000e+00, 5.07941099e-06, 0.00000000e+00, 3.30247867e-05,\n",
       "       4.07335970e-05, 2.06942431e-04, 1.13712177e-03, 9.31937042e-04,\n",
       "       4.14319758e-03, 5.55092635e-03, 3.00151203e-03, 3.90947224e-03,\n",
       "       3.56773974e-03, 6.51955884e-03, 9.53149654e-03, 1.04694058e-02,\n",
       "       2.78585321e-03, 3.32633681e-03, 4.92832778e-03, 1.47824275e-03,\n",
       "       9.11054702e-04, 7.61598938e-04, 2.70451017e-03, 5.35404177e-04,\n",
       "       9.96457782e-05, 3.14222399e-05, 0.00000000e+00, 0.00000000e+00,\n",
       "       0.00000000e+00, 0.00000000e+00, 3.96978697e-06, 5.21588243e-06,\n",
       "       4.83166769e-05, 2.73878244e-04, 7.87729782e-04, 1.50109957e-03,\n",
       "       4.68533446e-03, 3.87612563e-03, 5.67003476e-03, 2.36023388e-03,\n",
       "       5.93148815e-03, 4.71373442e-03, 5.52560277e-03, 1.02884076e-02,\n",
       "       4.29557610e-03, 1.12774927e-02, 2.77441947e-03, 2.72491516e-03,\n",
       "       1.44030628e-03, 4.10553375e-03, 2.64943685e-04, 5.11833536e-04,\n",
       "       1.40472270e-04, 1.79084679e-05, 1.77952716e-05, 5.14181932e-06,\n",
       "       0.00000000e+00, 0.00000000e+00, 0.00000000e+00, 1.05843388e-05,\n",
       "       1.27523758e-04, 6.43468836e-04, 8.31565905e-04, 1.70449912e-03,\n",
       "       1.97585662e-03, 1.03326213e-02, 6.51715463e-03, 2.51474500e-03,\n",
       "       4.45321356e-03, 9.25048608e-03, 5.64462078e-03, 4.37348237e-03,\n",
       "       2.48720699e-03, 6.86810239e-03, 1.74833765e-03, 1.26700872e-03,\n",
       "       9.76402337e-04, 1.14948866e-03, 1.12740475e-03, 3.55493697e-04,\n",
       "       1.65851188e-04, 5.68633276e-05, 0.00000000e+00, 0.00000000e+00,\n",
       "       0.00000000e+00, 0.00000000e+00, 1.66021879e-05, 5.45348998e-05,\n",
       "       4.59211388e-05, 2.34098914e-04, 5.06234432e-03, 4.27063479e-03,\n",
       "       2.39257951e-03, 4.61990114e-03, 3.30496636e-03, 3.33854229e-03,\n",
       "       3.32969638e-03, 6.80014826e-03, 2.53704828e-03, 1.90375781e-03,\n",
       "       2.48951700e-03, 3.25158138e-03, 2.31606267e-03, 1.80236457e-03,\n",
       "       1.17266716e-03, 8.52676338e-04, 4.79005366e-04, 3.50563863e-04,\n",
       "       1.56906559e-04, 2.49268946e-05, 1.03169010e-05, 8.82122072e-06,\n",
       "       0.00000000e+00, 0.00000000e+00, 0.00000000e+00, 5.90546235e-05,\n",
       "       7.88704875e-05, 8.93634610e-04, 6.94020542e-04, 1.20345523e-03,\n",
       "       2.54044035e-03, 2.83230622e-03, 4.09933983e-03, 3.29395754e-03,\n",
       "       7.25903583e-03, 9.87880420e-03, 1.00977121e-02, 3.13706882e-03,\n",
       "       1.45463444e-03, 2.30625167e-03, 4.36681075e-03, 1.40686900e-03,\n",
       "       7.71080832e-04, 4.72573500e-04, 6.92470927e-04, 2.10882278e-04,\n",
       "       1.59887529e-04, 4.25095501e-05, 9.34580618e-06, 5.17727569e-06,\n",
       "       0.00000000e+00, 0.00000000e+00, 8.49057021e-06, 8.09379015e-05,\n",
       "       1.52667865e-04, 2.94682754e-04, 1.35550050e-03, 4.49735800e-03,\n",
       "       1.28105089e-03, 2.31970006e-03, 2.34781587e-03, 1.27636021e-02,\n",
       "       2.19523640e-03, 2.41654975e-03, 2.10844302e-03, 1.71325263e-03,\n",
       "       8.69359356e-04, 3.91492035e-03, 6.91924396e-03, 1.10238422e-03,\n",
       "       1.33621731e-03, 1.34601819e-03, 9.33978020e-04, 2.82706898e-04,\n",
       "       1.17855133e-04, 7.23606373e-05, 0.00000000e+00, 0.00000000e+00,\n",
       "       0.00000000e+00, 0.00000000e+00, 7.93842272e-06, 2.30929786e-04,\n",
       "       1.09578044e-04, 9.39787779e-04, 2.50398713e-03, 1.77156509e-03,\n",
       "       2.03739208e-03, 9.54215286e-03, 2.52326238e-03, 2.97043796e-03,\n",
       "       4.37234458e-03, 1.99656347e-03, 3.08114892e-03, 1.65516988e-03,\n",
       "       1.07792201e-03, 2.44342936e-03, 1.22032946e-03, 5.26252267e-03,\n",
       "       8.27756677e-04, 8.44727742e-04, 3.68115383e-04, 1.73202448e-04,\n",
       "       1.26854745e-04, 1.52414678e-05, 1.04038762e-05, 0.00000000e+00,\n",
       "       0.00000000e+00, 0.00000000e+00, 0.00000000e+00, 3.76744549e-05,\n",
       "       1.83409930e-04, 1.45882648e-03, 1.00645114e-03, 3.27870252e-03,\n",
       "       2.13913782e-03, 6.13495296e-03, 3.50175122e-03, 3.52761230e-03,\n",
       "       2.75623799e-03, 3.97448421e-03, 1.44302862e-03, 1.75858337e-03,\n",
       "       1.51206834e-03, 1.46700318e-03, 9.08321557e-04, 2.22925996e-03,\n",
       "       1.48254286e-03, 8.57378425e-04, 3.99971776e-04, 5.11110295e-04,\n",
       "       4.36565498e-05, 2.71405310e-05, 0.00000000e+00, 0.00000000e+00,\n",
       "       0.00000000e+00, 0.00000000e+00, 4.68939741e-06, 6.85322336e-05,\n",
       "       7.32909456e-04, 3.69494001e-04, 9.37742251e-04, 3.11084738e-03,\n",
       "       2.51401499e-03, 4.48363496e-03, 2.22316180e-03, 1.09418645e-03,\n",
       "       1.98315806e-03, 1.07395133e-03, 1.21395404e-03, 1.90010236e-03,\n",
       "       1.07770399e-03, 9.46524339e-04, 7.22390654e-04, 8.23678460e-04,\n",
       "       4.86429638e-04, 1.69959091e-03, 2.30072266e-04, 1.58290498e-04,\n",
       "       7.08265381e-05, 1.03258860e-05, 0.00000000e+00, 0.00000000e+00,\n",
       "       0.00000000e+00, 0.00000000e+00, 0.00000000e+00, 2.37481499e-05,\n",
       "       1.24712280e-04, 1.34419610e-04, 7.17713513e-04, 9.41939756e-04,\n",
       "       4.60329650e-03, 4.77462409e-03, 2.66748761e-03, 2.03891226e-03,\n",
       "       1.56470228e-03, 1.41617812e-03, 1.28207400e-03, 1.42887646e-03,\n",
       "       8.46671326e-04, 1.77447428e-03, 1.51782753e-03, 6.33095101e-04,\n",
       "       6.30765641e-04, 2.88161403e-04, 3.05029795e-04, 1.12466566e-04,\n",
       "       2.75681464e-05, 4.55441849e-06, 5.16468244e-06, 0.00000000e+00,\n",
       "       0.00000000e+00, 0.00000000e+00, 5.08305424e-06, 4.89332518e-06,\n",
       "       2.46008387e-05, 8.31376723e-05, 4.79932393e-04, 3.30739912e-04,\n",
       "       1.10543090e-03, 3.08453861e-03, 4.17801871e-03, 2.49670681e-03,\n",
       "       4.16378285e-03, 5.66440415e-03, 7.09175694e-03, 2.36066429e-03,\n",
       "       1.03455291e-03, 5.95763775e-04, 8.25377463e-04, 3.50173207e-04,\n",
       "       4.44834129e-04, 2.05457739e-04, 5.33080607e-05, 4.73933260e-05,\n",
       "       3.56526224e-05, 0.00000000e+00, 0.00000000e+00, 0.00000000e+00,\n",
       "       0.00000000e+00, 0.00000000e+00, 0.00000000e+00, 4.46238647e-06,\n",
       "       2.83095572e-05, 5.78206819e-05, 4.26331449e-04, 2.66286043e-04,\n",
       "       4.55553332e-04, 1.15799246e-03, 1.06486385e-03, 2.11733743e-03,\n",
       "       1.66150100e-03, 8.66222042e-04, 6.60990575e-04, 2.55402546e-03,\n",
       "       8.20486729e-04, 4.02940501e-04, 3.85855702e-04, 2.47553529e-04,\n",
       "       1.37233373e-04, 1.16468104e-04, 4.81919631e-05, 3.69201614e-05,\n",
       "       9.72640279e-06, 0.00000000e+00, 0.00000000e+00, 0.00000000e+00,\n",
       "       0.00000000e+00, 0.00000000e+00, 0.00000000e+00, 0.00000000e+00,\n",
       "       0.00000000e+00, 4.09401975e-05, 2.97450544e-05, 1.83375003e-04,\n",
       "       3.00031936e-04, 9.79359848e-04, 4.42908891e-04, 3.62099959e-04,\n",
       "       6.54463181e-04, 8.79186101e-04, 4.47248554e-04, 6.65237461e-04,\n",
       "       6.91068725e-04, 3.22617137e-04, 4.43746743e-04, 2.16706421e-04,\n",
       "       3.38144020e-04, 7.56933474e-05, 1.79747927e-05, 0.00000000e+00,\n",
       "       0.00000000e+00, 0.00000000e+00, 0.00000000e+00, 0.00000000e+00,\n",
       "       0.00000000e+00, 0.00000000e+00, 0.00000000e+00, 0.00000000e+00,\n",
       "       7.44476502e-06, 1.16079201e-05, 0.00000000e+00, 1.46280748e-05,\n",
       "       5.17941553e-06, 5.09921173e-05, 7.41857827e-05, 3.93379316e-04,\n",
       "       2.47452360e-04, 3.13251304e-04, 3.66999099e-04, 1.30812201e-04,\n",
       "       1.49054545e-04, 8.38358796e-05, 1.24210033e-04, 4.89363342e-05,\n",
       "       1.42399445e-05, 4.85723858e-06, 0.00000000e+00, 1.54516611e-05,\n",
       "       0.00000000e+00, 0.00000000e+00, 0.00000000e+00, 0.00000000e+00,\n",
       "       0.00000000e+00, 0.00000000e+00, 0.00000000e+00, 0.00000000e+00,\n",
       "       0.00000000e+00, 0.00000000e+00, 0.00000000e+00, 0.00000000e+00,\n",
       "       0.00000000e+00, 0.00000000e+00, 9.68555485e-06, 0.00000000e+00,\n",
       "       4.37879533e-06, 0.00000000e+00, 0.00000000e+00, 1.01252722e-05,\n",
       "       0.00000000e+00, 0.00000000e+00, 0.00000000e+00, 0.00000000e+00,\n",
       "       7.93909865e-06, 0.00000000e+00, 0.00000000e+00, 0.00000000e+00,\n",
       "       0.00000000e+00, 0.00000000e+00, 0.00000000e+00, 0.00000000e+00])"
      ]
     },
     "execution_count": 28,
     "metadata": {},
     "output_type": "execute_result"
    }
   ],
   "source": [
    "RFC_.fit(x,y).feature_importances_"
   ]
  },
  {
   "cell_type": "code",
   "execution_count": 30,
   "id": "752f387f",
   "metadata": {},
   "outputs": [
    {
     "data": {
      "image/png": "[encoded data removed]",
      "text/plain": [
       "<Figure size 640x480 with 1 Axes>"
      ]
     },
     "metadata": {},
     "output_type": "display_data"
    }
   ],
   "source": [
    "threshold = np.linspace(0,(RFC_.fit(x,y).feature_importances_).max(),20)\n",
    "score = []\n",
    "for i in threshold:\n",
    "    x_embedded = SelectFromModel(RFC_, threshold = i).fit_transform(x,y)\n",
    "    sc = cross_val_score(RFC_,x_embedded,y,cv=5).mean()\n",
    "    score.append(sc)\n",
    "plt.plot(threshold,score)\n",
    "plt.show()"
   ]
  },
  {
   "cell_type": "code",
   "execution_count": 34,
   "id": "23ac931b",
   "metadata": {},
   "outputs": [
    {
     "data": {
      "text/plain": [
       "(42000, 324)"
      ]
     },
     "execution_count": 34,
     "metadata": {},
     "output_type": "execute_result"
    }
   ],
   "source": [
    "x_embedded = SelectFromModel(RFC_, threshold = 0.00067).fit_transform(x,y)\n",
    "x_embedded.shape"
   ]
  },
  {
   "cell_type": "code",
   "execution_count": 35,
   "id": "9174e6a2",
   "metadata": {},
   "outputs": [
    {
     "data": {
      "text/plain": [
       "0.9391190476190475"
      ]
     },
     "execution_count": 35,
     "metadata": {},
     "output_type": "execute_result"
    }
   ],
   "source": [
    "cross_val_score(RFC_,x_embedded,y,cv=5).mean()"
   ]
  },
  {
   "cell_type": "code",
   "execution_count": 33,
   "id": "ccb40819",
   "metadata": {},
   "outputs": [
    {
     "data": {
      "image/png": "[encoded data removed]",
      "text/plain": [
       "<Figure size 2000x500 with 1 Axes>"
      ]
     },
     "metadata": {},
     "output_type": "display_data"
    }
   ],
   "source": [
    "score2 = []\n",
    "for i in np.linspace(0,0.00134,20):\n",
    "    x_embedded = SelectFromModel(RFC_, threshold = i).fit_transform(x,y)\n",
    "    sc2 = cross_val_score(RFC_,x_embedded,y,cv=5).mean()\n",
    "    score2.append(sc2)\n",
    "plt.figure(figsize=[20,5])\n",
    "plt.plot(np.linspace(0,0.00134,20),score2)\n",
    "plt.xticks(np.linspace(0,0.00134,20))\n",
    "plt.show()"
   ]
  },
  {
   "cell_type": "code",
   "execution_count": 40,
   "id": "eca266cc",
   "metadata": {},
   "outputs": [
    {
     "data": {
      "text/plain": [
       "(42000, 331)"
      ]
     },
     "execution_count": 40,
     "metadata": {},
     "output_type": "execute_result"
    }
   ],
   "source": [
    "x_embedded = SelectFromModel(RFC_, threshold = 0.000635).fit_transform(x,y)\n",
    "x_embedded.shape"
   ]
  },
  {
   "cell_type": "code",
   "execution_count": 41,
   "id": "709671ec",
   "metadata": {},
   "outputs": [
    {
     "data": {
      "text/plain": [
       "0.9396666666666667"
      ]
     },
     "execution_count": 41,
     "metadata": {},
     "output_type": "execute_result"
    }
   ],
   "source": [
    "cross_val_score(RFC_,x_embedded,y,cv=5).mean()"
   ]
  },
  {
   "cell_type": "code",
   "execution_count": 42,
   "id": "e4d9bae0",
   "metadata": {},
   "outputs": [
    {
     "data": {
      "text/plain": [
       "0.9641190476190475"
      ]
     },
     "execution_count": 42,
     "metadata": {},
     "output_type": "execute_result"
    }
   ],
   "source": [
    "cross_val_score(RFC(n_estimators=100,random_state=0),x_embedded,y,cv=5).mean()"
   ]
  },
  {
   "cell_type": "code",
   "execution_count": 43,
   "id": "d0e3bc6e",
   "metadata": {},
   "outputs": [
    {
     "data": {
      "text/plain": [
       "340"
      ]
     },
     "execution_count": 43,
     "metadata": {},
     "output_type": "execute_result"
    }
   ],
   "source": [
    "#wrapper\n",
    "from sklearn.feature_selection import RFE\n",
    "RFC_ = RFC(n_estimators=10,random_state=0)\n",
    "selector = RFE(RFC_,n_features_to_select=340,step=50).fit(x,y)\n",
    "selector.support_.sum()"
   ]
  },
  {
   "cell_type": "code",
   "execution_count": 44,
   "id": "b34f1b6a",
   "metadata": {},
   "outputs": [
    {
     "data": {
      "text/plain": [
       "array([10,  9,  8,  7,  6,  6,  6,  6,  6,  6,  6,  6,  6,  6,  6,  6,  6,\n",
       "        6,  6,  6,  6,  6,  6,  6,  6,  6,  6,  6,  6,  6,  7,  7,  6,  6,\n",
       "        5,  6,  5,  6,  6,  6,  6,  6,  6,  6,  6,  6,  6,  7,  6,  7,  7,\n",
       "        7,  7,  7,  7,  7,  7,  7,  7,  7,  7,  7,  7,  7,  6,  6,  5,  4,\n",
       "        4,  5,  3,  4,  4,  4,  5,  4,  5,  7,  6,  7,  7,  7,  8,  8,  8,\n",
       "        8,  8,  8,  8,  8,  6,  7,  4,  3,  1,  2,  3,  3,  1,  1,  1,  1,\n",
       "        1,  3,  3,  4,  5,  5,  5,  8,  8,  9,  9,  9,  9,  8,  9,  9,  4,\n",
       "        4,  3,  2,  1,  1,  1,  1,  1,  1,  1,  1,  1,  1,  2,  3,  3,  4,\n",
       "        5,  5,  9,  9, 10, 10, 10, 10,  7,  4,  4,  3,  1,  1,  1,  1,  1,\n",
       "        1,  1,  1,  1,  1,  1,  1,  1,  1,  2,  3,  3,  5,  8, 10, 10, 10,\n",
       "       10,  9,  4,  4,  3,  1,  1,  1,  1,  1,  1,  1,  1,  1,  1,  1,  1,\n",
       "        1,  1,  1,  1,  1,  3,  4, 10, 10, 10, 10,  9,  7,  4,  3,  2,  2,\n",
       "        1,  1,  1,  1,  1,  1,  1,  1,  1,  1,  1,  1,  1,  1,  1,  1,  2,\n",
       "        4,  4, 10,  9, 10,  6,  6,  4,  2,  3,  1,  1,  1,  1,  1,  1,  1,\n",
       "        1,  1,  1,  1,  1,  1,  1,  1,  1,  1,  1,  3,  5,  9, 10,  8,  7,\n",
       "        4,  5,  3,  2,  1,  1,  1,  1,  1,  1,  1,  1,  1,  1,  1,  1,  1,\n",
       "        1,  1,  2,  1,  2,  4, 10, 10, 10,  9,  7,  5,  3,  3,  1,  1,  1,\n",
       "        1,  1,  1,  1,  1,  1,  1,  1,  1,  1,  1,  1,  1,  1,  3,  3,  5,\n",
       "        5,  9,  9,  9,  7,  5,  5,  3,  2,  1,  1,  1,  1,  1,  1,  1,  1,\n",
       "        1,  1,  1,  1,  1,  1,  1,  1,  2,  4,  5,  9,  9,  9,  9,  9,  5,\n",
       "        4,  1,  1,  1,  1,  1,  1,  1,  1,  1,  1,  1,  1,  1,  1,  1,  1,\n",
       "        1,  1,  1,  4,  5,  7, 10, 10,  9, 10,  9,  4,  1,  2,  1,  1,  1,\n",
       "        1,  1,  1,  1,  1,  1,  1,  1,  1,  1,  1,  1,  1,  1,  3,  5, 10,\n",
       "        9, 10, 10,  9,  7,  4,  2,  1,  1,  1,  1,  1,  1,  1,  1,  1,  1,\n",
       "        1,  1,  1,  1,  1,  1,  1,  2,  2,  4,  8,  9, 10, 10, 10,  5,  4,\n",
       "        2,  1,  1,  1,  1,  1,  1,  1,  1,  1,  1,  1,  1,  1,  1,  1,  1,\n",
       "        1,  2,  3,  5, 10, 10, 10, 10,  9,  5,  4,  1,  1,  1,  1,  1,  1,\n",
       "        1,  1,  1,  1,  1,  1,  1,  1,  1,  1,  1,  1,  3,  3,  4,  5,  9,\n",
       "       10, 10, 10,  5,  3,  1,  1,  1,  1,  1,  1,  1,  1,  1,  1,  1,  1,\n",
       "        1,  1,  1,  1,  1,  1,  3,  3,  4,  8,  8, 10, 10,  9,  5,  3,  3,\n",
       "        1,  1,  1,  1,  1,  1,  1,  1,  1,  1,  1,  1,  1,  1,  1,  1,  2,\n",
       "        3,  3,  4, 10, 10, 10, 10,  8,  4,  3,  1,  1,  1,  1,  1,  1,  1,\n",
       "        1,  1,  1,  1,  1,  1,  1,  1,  1,  1,  1,  2,  4,  5,  8, 10, 10,\n",
       "       10, 10,  5,  2,  1,  1,  1,  1,  1,  1,  1,  1,  1,  1,  1,  1,  1,\n",
       "        1,  1,  1,  1,  1,  2,  4,  7, 10, 10, 10, 10,  8,  5,  3,  2,  1,\n",
       "        1,  1,  1,  1,  1,  1,  1,  1,  1,  1,  1,  1,  1,  1,  2,  3,  3,\n",
       "        5,  5,  7,  9,  9,  9,  9,  5,  5,  2,  2,  1,  1,  1,  1,  1,  1,\n",
       "        1,  1,  1,  1,  1,  1,  2,  2,  2,  3,  4,  5,  5,  8,  9,  9,  9,\n",
       "        9,  7,  4,  4,  2,  1,  1,  1,  1,  1,  1,  1,  1,  1,  1,  1,  1,\n",
       "        3,  3,  3,  5,  5,  9,  8,  9,  9,  9,  9,  9,  5,  4,  4,  2,  2,\n",
       "        1,  1,  1,  1,  1,  2,  1,  1,  1,  1,  2,  2,  3,  4,  5,  5,  9,\n",
       "        8,  8,  8,  8,  8,  8,  7,  8,  6,  4,  2,  2,  1,  1,  2,  2,  1,\n",
       "        2,  2,  3,  2,  2,  4,  4,  5,  5,  8,  8,  8,  7,  7,  7,  7,  7,\n",
       "        7,  7,  5,  5,  4,  5,  4,  3,  3,  3,  4,  3,  3,  4,  3,  4,  5,\n",
       "        5,  6,  7,  7,  7,  6,  7,  8,  8,  8,  9,  9,  9,  9,  6,  8,  8,\n",
       "        8,  7,  8,  8,  8,  7,  8,  8,  8,  8,  8,  7,  8,  8,  8,  8,  9,\n",
       "       10,  7])"
      ]
     },
     "execution_count": 44,
     "metadata": {},
     "output_type": "execute_result"
    }
   ],
   "source": [
    "selector.ranking_"
   ]
  },
  {
   "cell_type": "code",
   "execution_count": 46,
   "id": "a80308ef",
   "metadata": {},
   "outputs": [
    {
     "data": {
      "text/plain": [
       "0.9379761904761905"
      ]
     },
     "execution_count": 46,
     "metadata": {},
     "output_type": "execute_result"
    }
   ],
   "source": [
    "x_wrapper = selector.transform(x)\n",
    "cross_val_score(RFC_,x_wrapper,y,cv=5).mean()"
   ]
  },
  {
   "cell_type": "code",
   "execution_count": 48,
   "id": "f0c040f0",
   "metadata": {},
   "outputs": [
    {
     "data": {
      "image/png": "[encoded data removed]",
      "text/plain": [
       "<Figure size 2000x500 with 1 Axes>"
      ]
     },
     "metadata": {},
     "output_type": "display_data"
    }
   ],
   "source": [
    "score = []\n",
    "for i in range(1,751,50):\n",
    "    x_wrapper = RFE(RFC_,n_features_to_select=i,step=50).fit_transform(x,y)\n",
    "    sc = cross_val_score(RFC_,x_wrapper,y,cv=5).mean()\n",
    "    score.append(sc)\n",
    "plt.figure(figsize=[20,5])\n",
    "plt.plot(range(1,751,50),score)\n",
    "plt.xticks(range(1,751,50))\n",
    "plt.show()"
   ]
  },
  {
   "cell_type": "code",
   "execution_count": 49,
   "id": "f8c97d06",
   "metadata": {},
   "outputs": [
    {
     "data": {
      "text/plain": [
       "0.9357857142857142"
      ]
     },
     "execution_count": 49,
     "metadata": {},
     "output_type": "execute_result"
    }
   ],
   "source": [
    "x_wrapper = RFE(RFC_,n_features_to_select=251,step=50).fit_transform(x,y)\n",
    "cross_val_score(RFC_,x_wrapper,y,cv=5).mean()"
   ]
  },
  {
   "cell_type": "code",
   "execution_count": null,
   "id": "4242fc3c",
   "metadata": {},
   "outputs": [],
   "source": []
  }
 ],
 "metadata": {
  "kernelspec": {
   "display_name": "Python 3 (ipykernel)",
   "language": "python",
   "name": "python3"
  },
  "language_info": {
   "codemirror_mode": {
    "name": "ipython",
    "version": 3
   },
   "file_extension": ".py",
   "mimetype": "text/x-python",
   "name": "python",
   "nbconvert_exporter": "python",
   "pygments_lexer": "ipython3",
   "version": "3.10.4"
  }
 },
 "nbformat": 4,
 "nbformat_minor": 5
}
